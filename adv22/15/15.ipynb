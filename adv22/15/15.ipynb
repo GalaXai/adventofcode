{
 "cells": [
  {
   "cell_type": "code",
   "execution_count": 1,
   "outputs": [
    {
     "data": {
      "text/plain": "[[1518415, 2163633, 1111304, 1535696],\n [2474609, 3598166, 2691247, 4007257],\n [426959, 473371, -529106, 1145419],\n [3999598, 1984775, 3975468, 2000000],\n [2459256, 2951561, 2132806, 2866452],\n [2925882, 2862933, 3325001, 3024589],\n [3539174, 3882566, 3132375, 3541509],\n [3044887, 3798155, 3132375, 3541509],\n [1792818, 3506985, 2132806, 2866452],\n [3761945, 3304667, 3325001, 3024589],\n [71968, 3823892, -1085197, 3401157],\n [2902345, 3999748, 2691247, 4007257],\n [2074989, 2347435, 2132806, 2866452],\n [1115220, 1782338, 1111304, 1535696],\n [369130, 2348958, 1111304, 1535696],\n [2525090, 1917940, 2603675, 2276026],\n [2861163, 3386968, 3132375, 3541509],\n [3995081, 2010596, 3975468, 2000000],\n [3038274, 534921, 4354209, -17303],\n [3646366, 2868267, 3325001, 3024589],\n [3308360, 1653497, 3975468, 2000000],\n [1996072, 995783, 1111304, 1535696],\n [3852158, 950900, 3975468, 2000000],\n [3061849, 2428914, 2603675, 2276026],\n [2788254, 3983003, 2691247, 4007257],\n [694411, 1882565, 1111304, 1535696],\n [2647250, 2551966, 2603675, 2276026],\n [1079431, 3166226, 2132806, 2866452],\n [3929172, 2196495, 3975468, 2000000],\n [3883296, 2487406, 3975468, 2000000],\n [1271911, 1529880, 1111304, 1535696]]"
     },
     "execution_count": 1,
     "metadata": {},
     "output_type": "execute_result"
    }
   ],
   "source": [
    "import re\n",
    "data = [list(map(int , re.findall('-?\\d+', row))) for row in open('in.txt')]\n",
    "data"
   ],
   "metadata": {
    "collapsed": false
   }
  },
  {
   "cell_type": "markdown",
   "source": [
    "# Manhattan geometry\n",
    "$$ | x_1 -x_2 | + |y_1 - y_2 | $$"
   ],
   "metadata": {
    "collapsed": false
   }
  },
  {
   "cell_type": "code",
   "execution_count": 2,
   "outputs": [],
   "source": [
    "distress  = []\n",
    "known = []\n",
    "# calc for y =\n",
    "y = 2000000\n",
    "for cords in data:\n",
    "    #Sensor\n",
    "    sensor = [cords[0],cords[1]]\n",
    "    #Becon\n",
    "    beacon = [cords[2],cords[3]]\n",
    "    if beacon[1] == y:\n",
    "        known.append(beacon[0])\n",
    "    #Distance\n",
    "    distance =  abs(sensor[0] - beacon[0]) + abs(sensor[1]-beacon[1])\n",
    "    # how many x in distance on row y\n",
    "    for i in range(distance-(abs(sensor[1]-y))+1):\n",
    "        distress.append(sensor[0]+i)\n",
    "        distress.append(sensor[0]-i)"
   ],
   "metadata": {
    "collapsed": false
   }
  },
  {
   "cell_type": "code",
   "execution_count": 3,
   "outputs": [
    {
     "data": {
      "text/plain": "4861076"
     },
     "execution_count": 3,
     "metadata": {},
     "output_type": "execute_result"
    }
   ],
   "source": [
    "len(sorted(set(distress))) - len(sorted(set(known)))"
   ],
   "metadata": {
    "collapsed": false
   }
  },
  {
   "cell_type": "markdown",
   "source": [
    "# Part 1 Ends Here"
   ],
   "metadata": {
    "collapsed": false
   }
  },
  {
   "cell_type": "code",
   "execution_count": 4,
   "outputs": [
    {
     "data": {
      "text/plain": "[[1518415, 2163633, 1111304, 1535696],\n [2474609, 3598166, 2691247, 4007257],\n [426959, 473371, -529106, 1145419],\n [3999598, 1984775, 3975468, 2000000],\n [2459256, 2951561, 2132806, 2866452],\n [2925882, 2862933, 3325001, 3024589],\n [3539174, 3882566, 3132375, 3541509],\n [3044887, 3798155, 3132375, 3541509],\n [1792818, 3506985, 2132806, 2866452],\n [3761945, 3304667, 3325001, 3024589],\n [71968, 3823892, -1085197, 3401157],\n [2902345, 3999748, 2691247, 4007257],\n [2074989, 2347435, 2132806, 2866452],\n [1115220, 1782338, 1111304, 1535696],\n [369130, 2348958, 1111304, 1535696],\n [2525090, 1917940, 2603675, 2276026],\n [2861163, 3386968, 3132375, 3541509],\n [3995081, 2010596, 3975468, 2000000],\n [3038274, 534921, 4354209, -17303],\n [3646366, 2868267, 3325001, 3024589],\n [3308360, 1653497, 3975468, 2000000],\n [1996072, 995783, 1111304, 1535696],\n [3852158, 950900, 3975468, 2000000],\n [3061849, 2428914, 2603675, 2276026],\n [2788254, 3983003, 2691247, 4007257],\n [694411, 1882565, 1111304, 1535696],\n [2647250, 2551966, 2603675, 2276026],\n [1079431, 3166226, 2132806, 2866452],\n [3929172, 2196495, 3975468, 2000000],\n [3883296, 2487406, 3975468, 2000000],\n [1271911, 1529880, 1111304, 1535696]]"
     },
     "execution_count": 4,
     "metadata": {},
     "output_type": "execute_result"
    }
   ],
   "source": [
    "import re\n",
    "pattern = re.compile('-?\\d+')\n",
    "data  = [list(map(int, pattern.findall(line))) for line in open('in.txt')]\n",
    "data"
   ],
   "metadata": {
    "collapsed": false
   }
  },
  {
   "cell_type": "code",
   "execution_count": 5,
   "outputs": [
    {
     "name": "stdout",
     "output_type": "stream",
     "text": [
      "10649103160102\n"
     ]
    }
   ],
   "source": [
    "M = 4000000\n",
    "\n",
    "for Y in range(M+1):\n",
    "    intervals = []\n",
    "\n",
    "\n",
    "    for sensor_x,sensor_y,beacon_x,beacon_y in data:\n",
    "\n",
    "        distance = abs(sensor_x-beacon_x) + abs(sensor_y-beacon_y)\n",
    "        offset = distance - abs(sensor_y - Y)\n",
    "        #if offset is negative\n",
    "        if offset < 0:\n",
    "            continue\n",
    "        # Intervals -\n",
    "\n",
    "        low_x = sensor_x - offset\n",
    "        high_x = sensor_x + offset\n",
    "\n",
    "        intervals.append((low_x,high_x))\n",
    "    # We have intervals where beacon cant be\n",
    "    # Now we not to merge them into if possible.\n",
    "\n",
    "    intervals.sort()\n",
    "\n",
    "    q = []\n",
    "\n",
    "    for low,high in intervals:\n",
    "        if not q:# if queue is empty\n",
    "            q.append([low,high])\n",
    "            continue\n",
    "\n",
    "        q_low,q_high = q[-1]\n",
    "\n",
    "        if low > q_high+1: # if they overlap\n",
    "            q.append([low,high])\n",
    "            continue\n",
    "\n",
    "        q[-1][1] = max(q_high,high)\n",
    "\n",
    "    # Before\n",
    "    #print(Y,intervals)\n",
    "    # After merging\n",
    "    #print(q)\n",
    "\n",
    "    x = 0\n",
    "\n",
    "    for low, high in q:\n",
    "        if x< low:\n",
    "            print(x * 4000000 + Y)\n",
    "            exit(0)\n",
    "\n",
    "        x =max(x, high +1)\n",
    "\n",
    "        if x > M:\n",
    "            break"
   ],
   "metadata": {
    "collapsed": false
   }
  },
  {
   "cell_type": "code",
   "execution_count": 5,
   "outputs": [],
   "source": [],
   "metadata": {
    "collapsed": false
   }
  }
 ],
 "metadata": {
  "kernelspec": {
   "display_name": "Python 3",
   "language": "python",
   "name": "python3"
  },
  "language_info": {
   "codemirror_mode": {
    "name": "ipython",
    "version": 2
   },
   "file_extension": ".py",
   "mimetype": "text/x-python",
   "name": "python",
   "nbconvert_exporter": "python",
   "pygments_lexer": "ipython2",
   "version": "2.7.6"
  }
 },
 "nbformat": 4,
 "nbformat_minor": 0
}
