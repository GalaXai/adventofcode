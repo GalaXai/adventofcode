{
 "cells": [
  {
   "cell_type": "markdown",
   "source": [
    "Part 1"
   ],
   "metadata": {
    "collapsed": false
   }
  },
  {
   "cell_type": "code",
   "execution_count": 34,
   "metadata": {
    "collapsed": true
   },
   "outputs": [],
   "source": [
    "rocks = [\n",
    "    [0, 1, 2, 3],\n",
    "    [1, 0 + 1j, 1 + 1j, 2 + 1j, 1 + 2j],\n",
    "    [0, 1, 2, 2 + 1j, 2 + 2j],\n",
    "    [0, 1j, 2j, 3j],\n",
    "    [0, 1, 1j, 1 + 1j],\n",
    "]"
   ]
  },
  {
   "cell_type": "code",
   "execution_count": 23,
   "outputs": [],
   "source": [
    "jets = [1 if x == \">\" else - 1 for x in open('in.txt').read()]\n",
    "solid = {x - 1j for x in range(7)}\n",
    "height = 0"
   ],
   "metadata": {
    "collapsed": false
   }
  },
  {
   "cell_type": "code",
   "execution_count": 24,
   "outputs": [
    {
     "name": "stdout",
     "output_type": "stream",
     "text": [
      "3114\n"
     ]
    }
   ],
   "source": [
    "rock_count = 0\n",
    "rock_index = 0\n",
    "rock = {x + 2 + (height + 3) * 1j for x in rocks[rock_index]}  # shifts by 2 and moves up height + 3\n",
    "\n",
    "while rock_count < 2022:\n",
    "    for jet in jets:\n",
    "        moved = {x + jet for x in rock}\n",
    "        # We check if jet can move the rock\n",
    "        if all(0 <= x.real < 7 for x in moved) and not (moved & solid):\n",
    "            rock = moved\n",
    "\n",
    "        # move rock down by 1\n",
    "        moved = {x - 1j for x in rock}\n",
    "        if moved & solid:\n",
    "            solid |= rock\n",
    "            rock_count += 1\n",
    "            height = max(x.imag for x in solid) + 1\n",
    "            if rock_count > 2022:\n",
    "                break\n",
    "\n",
    "            rock_index = (rock_index + 1) % 5\n",
    "            rock = {x + 2 + (height + 3) * 1j for x in rocks[rock_index]}\n",
    "        else:\n",
    "            rock = moved\n",
    "print(int(height))"
   ],
   "metadata": {
    "collapsed": false
   }
  },
  {
   "cell_type": "markdown",
   "source": [
    "# Part 1 ends here"
   ],
   "metadata": {
    "collapsed": false
   }
  },
  {
   "cell_type": "markdown",
   "source": [
    "### Now we need to calc height for 1T rocks"
   ],
   "metadata": {
    "collapsed": false
   }
  },
  {
   "cell_type": "code",
   "execution_count": 60,
   "outputs": [
    {
     "name": "stdout",
     "output_type": "stream",
     "text": [
      "1540804597682\n"
     ]
    }
   ],
   "source": [
    "jets = [1 if x == \">\" else - 1 for x in open('in.txt').read()]\n",
    "solid = {x - 1j for x in range(7)}\n",
    "height = 0\n",
    "rock_count = 0\n",
    "rock_index = 0\n",
    "rock = {x + 2 + (height + 3) * 1j for x in rocks[rock_index]}  # shifts by 2 and moves up height + 3\n",
    "\n",
    "\n",
    "seen = {}\n",
    "\n",
    "def summarize():\n",
    "    o = [-20] * 7\n",
    "\n",
    "    for x in solid:\n",
    "        o[int(x.real)] = max(o[int(x.real)],int(x.imag))\n",
    "    top = max(o)\n",
    "\n",
    "    return tuple(x - top for x in o)\n",
    "\n",
    "num_rocks = 1000000000000\n",
    "while rock_count < num_rocks:\n",
    "    for jet_index,jet in enumerate(jets):\n",
    "        moved = {x + jet for x in rock}\n",
    "        # We check if jet can move the rock\n",
    "        if all(0 <= x.real < 7 for x in moved) and not (moved & solid):\n",
    "            rock = moved\n",
    "\n",
    "        # move rock down by 1\n",
    "        moved = {x - 1j for x in rock}\n",
    "        if moved & solid:\n",
    "            solid |= rock\n",
    "            rock_count += 1\n",
    "            old_h = height\n",
    "            height = max(x.imag for x in solid) + 1\n",
    "            if rock_count >= num_rocks:\n",
    "                break\n",
    "\n",
    "            rock_index = (rock_index + 1) % 5\n",
    "            rock = {x + 2 + (height + 3) * 1j for x in rocks[rock_index]}\n",
    "\n",
    "            key = (jet_index,rock_index,summarize())\n",
    "            if key in seen:\n",
    "                last_rock_count, last_height = seen[key]\n",
    "                rem = num_rocks - rock_count\n",
    "                rep = rem // (rock_count - last_rock_count)\n",
    "                offset = rep*(height - last_height)\n",
    "                rock_count += rep * (rock_count - last_rock_count)\n",
    "                seen={}\n",
    "            seen[key] = (rock_count,height)\n",
    "        else:\n",
    "            rock = moved\n",
    "\n",
    "\n",
    "print(int(height + offset))"
   ],
   "metadata": {
    "collapsed": false
   }
  }
 ],
 "metadata": {
  "kernelspec": {
   "display_name": "Python 3",
   "language": "python",
   "name": "python3"
  },
  "language_info": {
   "codemirror_mode": {
    "name": "ipython",
    "version": 2
   },
   "file_extension": ".py",
   "mimetype": "text/x-python",
   "name": "python",
   "nbconvert_exporter": "python",
   "pygments_lexer": "ipython2",
   "version": "2.7.6"
  }
 },
 "nbformat": 4,
 "nbformat_minor": 0
}
